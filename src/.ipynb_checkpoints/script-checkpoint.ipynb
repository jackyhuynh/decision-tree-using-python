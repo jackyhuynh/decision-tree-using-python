{
 "cells": [
  {
   "cell_type": "markdown",
   "id": "d44ab1e9",
   "metadata": {},
   "source": [
    "# Homework 2: Supervised Learning: Regression: Decision Tree\n",
    "\n",
    "+ Explain the problem\n",
    "+ Explain the AI Model & Data\n",
    "+ Explain/Analysis the results\n",
    "\n",
    "### Explain the problem:\n",
    "\n",
    "The goal is to create a set of *human-interpretable* rules to tell wines apart*\n",
    "\n",
    "### Data Source:\n",
    "\n",
    "The data will be retrieved from sklearn simple data sets (data is clean and tidy)\n",
    "\n",
    "This is one project I build when studied at AI Academy (NCSU.edu)\n"
   ]
  },
  {
   "cell_type": "markdown",
   "id": "ef2e0c48",
   "metadata": {},
   "source": [
    "## 1) Exploratory Data Analyst:\n"
   ]
  },
  {
   "cell_type": "code",
   "execution_count": 20,
   "id": "07240618",
   "metadata": {},
   "outputs": [],
   "source": [
    "import numpy as np\n",
    "import pandas as pd\n",
    "import matplotlib.pyplot as plt\n",
    "from sklearn.tree import DecisionTreeClassifier\n",
    "from sklearn.tree import plot_tree\n",
    "from sklearn import datasets # dataset for this report\n",
    "from sklearn.preprocessing import MinMaxScaler\n",
    "from sklearn.model_selection import train_test_split # For split the train and test set\n",
    "from sklearn.metrics import accuracy_score\n",
    "\n",
    "test_data_fraction = 0.2"
   ]
  },
  {
   "cell_type": "code",
   "execution_count": 5,
   "id": "e56ca0ea",
   "metadata": {},
   "outputs": [
    {
     "data": {
      "text/plain": [
       "array([[0.84210526, 0.1916996 , 0.57219251, ..., 0.45528455, 0.97069597,\n",
       "        0.56134094],\n",
       "       [0.57105263, 0.2055336 , 0.4171123 , ..., 0.46341463, 0.78021978,\n",
       "        0.55064194],\n",
       "       [0.56052632, 0.3201581 , 0.70053476, ..., 0.44715447, 0.6959707 ,\n",
       "        0.64693295],\n",
       "       ...,\n",
       "       [0.58947368, 0.69960474, 0.48128342, ..., 0.08943089, 0.10622711,\n",
       "        0.39728959],\n",
       "       [0.56315789, 0.36561265, 0.54010695, ..., 0.09756098, 0.12820513,\n",
       "        0.40085592],\n",
       "       [0.81578947, 0.66403162, 0.73796791, ..., 0.10569106, 0.12087912,\n",
       "        0.20114123]])"
      ]
     },
     "execution_count": 5,
     "metadata": {},
     "output_type": "execute_result"
    }
   ],
   "source": [
    "wine_sk = datasets.load_wine()\n",
    "\n",
    "# Make sure data is in the same range (normalization)\n",
    "wine_sk.data = MinMaxScaler().fit_transform(wine_sk.data)\n",
    "\n",
    "wine_sk.data"
   ]
  },
  {
   "cell_type": "code",
   "execution_count": 6,
   "id": "90f2137c",
   "metadata": {},
   "outputs": [],
   "source": [
    "# Since this is supervised learning\n",
    "# Note that the \"target\" attribute is species, represented as an integer\n",
    "wine_data = pd.DataFrame(data= np.c_[wine_sk['data'], wine_sk['target']],columns= wine_sk['feature_names']+['target'])"
   ]
  },
  {
   "cell_type": "code",
   "execution_count": 7,
   "id": "f26af3ed",
   "metadata": {},
   "outputs": [
    {
     "data": {
      "text/html": [
       "<div>\n",
       "<style scoped>\n",
       "    .dataframe tbody tr th:only-of-type {\n",
       "        vertical-align: middle;\n",
       "    }\n",
       "\n",
       "    .dataframe tbody tr th {\n",
       "        vertical-align: top;\n",
       "    }\n",
       "\n",
       "    .dataframe thead th {\n",
       "        text-align: right;\n",
       "    }\n",
       "</style>\n",
       "<table border=\"1\" class=\"dataframe\">\n",
       "  <thead>\n",
       "    <tr style=\"text-align: right;\">\n",
       "      <th></th>\n",
       "      <th>alcohol</th>\n",
       "      <th>malic_acid</th>\n",
       "      <th>ash</th>\n",
       "      <th>alcalinity_of_ash</th>\n",
       "      <th>magnesium</th>\n",
       "      <th>total_phenols</th>\n",
       "      <th>flavanoids</th>\n",
       "      <th>nonflavanoid_phenols</th>\n",
       "      <th>proanthocyanins</th>\n",
       "      <th>color_intensity</th>\n",
       "      <th>hue</th>\n",
       "      <th>od280/od315_of_diluted_wines</th>\n",
       "      <th>proline</th>\n",
       "      <th>target</th>\n",
       "    </tr>\n",
       "  </thead>\n",
       "  <tbody>\n",
       "    <tr>\n",
       "      <th>0</th>\n",
       "      <td>0.842105</td>\n",
       "      <td>0.191700</td>\n",
       "      <td>0.572193</td>\n",
       "      <td>0.257732</td>\n",
       "      <td>0.619565</td>\n",
       "      <td>0.627586</td>\n",
       "      <td>0.573840</td>\n",
       "      <td>0.283019</td>\n",
       "      <td>0.593060</td>\n",
       "      <td>0.372014</td>\n",
       "      <td>0.455285</td>\n",
       "      <td>0.970696</td>\n",
       "      <td>0.561341</td>\n",
       "      <td>0.0</td>\n",
       "    </tr>\n",
       "    <tr>\n",
       "      <th>1</th>\n",
       "      <td>0.571053</td>\n",
       "      <td>0.205534</td>\n",
       "      <td>0.417112</td>\n",
       "      <td>0.030928</td>\n",
       "      <td>0.326087</td>\n",
       "      <td>0.575862</td>\n",
       "      <td>0.510549</td>\n",
       "      <td>0.245283</td>\n",
       "      <td>0.274448</td>\n",
       "      <td>0.264505</td>\n",
       "      <td>0.463415</td>\n",
       "      <td>0.780220</td>\n",
       "      <td>0.550642</td>\n",
       "      <td>0.0</td>\n",
       "    </tr>\n",
       "    <tr>\n",
       "      <th>2</th>\n",
       "      <td>0.560526</td>\n",
       "      <td>0.320158</td>\n",
       "      <td>0.700535</td>\n",
       "      <td>0.412371</td>\n",
       "      <td>0.336957</td>\n",
       "      <td>0.627586</td>\n",
       "      <td>0.611814</td>\n",
       "      <td>0.320755</td>\n",
       "      <td>0.757098</td>\n",
       "      <td>0.375427</td>\n",
       "      <td>0.447154</td>\n",
       "      <td>0.695971</td>\n",
       "      <td>0.646933</td>\n",
       "      <td>0.0</td>\n",
       "    </tr>\n",
       "    <tr>\n",
       "      <th>3</th>\n",
       "      <td>0.878947</td>\n",
       "      <td>0.239130</td>\n",
       "      <td>0.609626</td>\n",
       "      <td>0.319588</td>\n",
       "      <td>0.467391</td>\n",
       "      <td>0.989655</td>\n",
       "      <td>0.664557</td>\n",
       "      <td>0.207547</td>\n",
       "      <td>0.558360</td>\n",
       "      <td>0.556314</td>\n",
       "      <td>0.308943</td>\n",
       "      <td>0.798535</td>\n",
       "      <td>0.857347</td>\n",
       "      <td>0.0</td>\n",
       "    </tr>\n",
       "    <tr>\n",
       "      <th>4</th>\n",
       "      <td>0.581579</td>\n",
       "      <td>0.365613</td>\n",
       "      <td>0.807487</td>\n",
       "      <td>0.536082</td>\n",
       "      <td>0.521739</td>\n",
       "      <td>0.627586</td>\n",
       "      <td>0.495781</td>\n",
       "      <td>0.490566</td>\n",
       "      <td>0.444795</td>\n",
       "      <td>0.259386</td>\n",
       "      <td>0.455285</td>\n",
       "      <td>0.608059</td>\n",
       "      <td>0.325963</td>\n",
       "      <td>0.0</td>\n",
       "    </tr>\n",
       "  </tbody>\n",
       "</table>\n",
       "</div>"
      ],
      "text/plain": [
       "    alcohol  malic_acid       ash  alcalinity_of_ash  magnesium  \\\n",
       "0  0.842105    0.191700  0.572193           0.257732   0.619565   \n",
       "1  0.571053    0.205534  0.417112           0.030928   0.326087   \n",
       "2  0.560526    0.320158  0.700535           0.412371   0.336957   \n",
       "3  0.878947    0.239130  0.609626           0.319588   0.467391   \n",
       "4  0.581579    0.365613  0.807487           0.536082   0.521739   \n",
       "\n",
       "   total_phenols  flavanoids  nonflavanoid_phenols  proanthocyanins  \\\n",
       "0       0.627586    0.573840              0.283019         0.593060   \n",
       "1       0.575862    0.510549              0.245283         0.274448   \n",
       "2       0.627586    0.611814              0.320755         0.757098   \n",
       "3       0.989655    0.664557              0.207547         0.558360   \n",
       "4       0.627586    0.495781              0.490566         0.444795   \n",
       "\n",
       "   color_intensity       hue  od280/od315_of_diluted_wines   proline  target  \n",
       "0         0.372014  0.455285                      0.970696  0.561341     0.0  \n",
       "1         0.264505  0.463415                      0.780220  0.550642     0.0  \n",
       "2         0.375427  0.447154                      0.695971  0.646933     0.0  \n",
       "3         0.556314  0.308943                      0.798535  0.857347     0.0  \n",
       "4         0.259386  0.455285                      0.608059  0.325963     0.0  "
      ]
     },
     "execution_count": 7,
     "metadata": {},
     "output_type": "execute_result"
    }
   ],
   "source": [
    "# Validate the transform data\n",
    "wine_data.head()"
   ]
  },
  {
   "cell_type": "code",
   "execution_count": 33,
   "id": "04a34642",
   "metadata": {},
   "outputs": [
    {
     "data": {
      "text/plain": [
       "array([0, 0, 0, 0, 0, 0, 0, 0, 0, 0, 0, 0, 0, 0, 0, 0, 0, 0, 0, 0, 0, 0,\n",
       "       0, 0, 0, 0, 0, 0, 0, 0, 0, 0, 0, 0, 0, 0, 0, 0, 0, 0, 0, 0, 0, 0,\n",
       "       0, 0, 0, 0, 0, 0, 0, 0, 0, 0, 0, 0, 0, 0, 0, 1, 1, 1, 1, 1, 1, 1,\n",
       "       1, 1, 1, 1, 1, 1, 1, 1, 1, 1, 1, 1, 1, 1, 1, 1, 1, 1, 1, 1, 1, 1,\n",
       "       1, 1, 1, 1, 1, 1, 1, 1, 1, 1, 1, 1, 1, 1, 1, 1, 1, 1, 1, 1, 1, 1,\n",
       "       1, 1, 1, 1, 1, 1, 1, 1, 1, 1, 1, 1, 1, 1, 1, 1, 1, 1, 1, 1, 2, 2,\n",
       "       2, 2, 2, 2, 2, 2, 2, 2, 2, 2, 2, 2, 2, 2, 2, 2, 2, 2, 2, 2, 2, 2,\n",
       "       2, 2, 2, 2, 2, 2, 2, 2, 2, 2, 2, 2, 2, 2, 2, 2, 2, 2, 2, 2, 2, 2,\n",
       "       2, 2])"
      ]
     },
     "execution_count": 33,
     "metadata": {},
     "output_type": "execute_result"
    }
   ],
   "source": [
    "wine_sk[\"target\"]"
   ]
  },
  {
   "cell_type": "markdown",
   "id": "23676948",
   "metadata": {},
   "source": [
    "## 2) AI Model: Decision Tree"
   ]
  },
  {
   "cell_type": "code",
   "execution_count": 11,
   "id": "58d39a85",
   "metadata": {},
   "outputs": [],
   "source": [
    "# Building the tree\n",
    "# Grab all the columns except the last one\n",
    "wine_features = wine_data.iloc[:,0:-1]\n",
    "\n",
    "# Grab the last column\n",
    "wine_labels = wine_data[\"target\"]\n",
    "\n",
    "# Then split the X and Y datasets into training and testing\n",
    "X_train, X_test, Y_train, Y_test = train_test_split(wine_features, wine_labels, test_size=test_data_fraction)"
   ]
  },
  {
   "cell_type": "code",
   "execution_count": 13,
   "id": "e5193e7e",
   "metadata": {},
   "outputs": [
    {
     "name": "stdout",
     "output_type": "stream",
     "text": [
      "Training Shape: X_train:(142, 13), Y_train:(142,)\n",
      "Testing Shape: X_test:(36, 13), Y_test:(36,)\n"
     ]
    }
   ],
   "source": [
    "# Let validate the data again\n",
    "print(f\"Training Shape: X_train:{X_train.shape}, Y_train:{Y_train.shape}\")\n",
    "print(f\"Testing Shape: X_test:{X_test.shape}, Y_test:{Y_test.shape}\")"
   ]
  },
  {
   "cell_type": "code",
   "execution_count": 24,
   "id": "2afb2618",
   "metadata": {},
   "outputs": [
    {
     "data": {
      "text/plain": [
       "DecisionTreeClassifier(random_state=0)"
      ]
     },
     "execution_count": 24,
     "metadata": {},
     "output_type": "execute_result"
    }
   ],
   "source": [
    "# Train a decision tree, plot it, and calculate its accuracy.\n",
    "gini_tree = DecisionTreeClassifier (random_state=0)\n",
    "gini_tree.fit(X_train, Y_train)"
   ]
  },
  {
   "cell_type": "code",
   "execution_count": 31,
   "id": "b199fcf9",
   "metadata": {},
   "outputs": [
    {
     "data": {
      "image/png": "[encoded data removed]",
      "text/plain": [
       "<Figure size 1440x720 with 1 Axes>"
      ]
     },
     "metadata": {
      "needs_background": "light"
     },
     "output_type": "display_data"
    }
   ],
   "source": [
    "# We can plot the resulting tree using plot tree from sklearn\n",
    "plt.figure(figsize=(20,10)) # create a figure size 20 and 10\n",
    "_ = plot_tree(gini_tree, feature_names=wine_features.columns)"
   ]
  },
  {
   "cell_type": "code",
   "execution_count": 34,
   "id": "f112a996",
   "metadata": {},
   "outputs": [
    {
     "name": "stdout",
     "output_type": "stream",
     "text": [
      "Train Accuracy: 1.0\n",
      "Test Accuracy: 0.9722222222222222\n"
     ]
    }
   ],
   "source": [
    "print(f'Train Accuracy: {accuracy_score(Y_train, gini_tree.predict(X_train))}')\n",
    "print(f'Test Accuracy: {accuracy_score(Y_test, gini_tree.predict(X_test))}')"
   ]
  },
  {
   "cell_type": "markdown",
   "id": "aae4dd61",
   "metadata": {},
   "source": [
    "## 3) Explain the Analyst"
   ]
  },
  {
   "cell_type": "markdown",
   "id": "ef69b9f8",
   "metadata": {},
   "source": [
    "**Result:** Result show an accuracy score of 92% on the training test and 94% on the test set:\n",
    "\n",
    "**Explain**:\n",
    "Go down the decison tree. The left side of the tree is yes, and the right side is no. \n",
    "- Example 1: visit the root of the tree, then go left, then go left again: wine classify as 1. Explain: If a wine has a color_intensity less than 0.217 (root: choose yes) and proline less than 0.517 (first left: choose yes), it has more than 93% to be wine class 1 (at second left).\n",
    "- Example 2: visit the root of the tree, then go right, another right, and another right: wine classify as type 0. Explain: If a wine has a color_intensity more than 0.217(root: choose no), and flavanoid more than 0.262 (first right: choose no) and proline more than 0.318 (second right: choose no). It has 100 % change to classify as wine type 0 (at third right).\n",
    "\n",
    "Any one can look at the pics and do a quick classification base on the citeria"
   ]
  }
 ],
 "metadata": {
  "kernelspec": {
   "display_name": "Python 3",
   "language": "python",
   "name": "python3"
  },
  "language_info": {
   "codemirror_mode": {
    "name": "ipython",
    "version": 3
   },
   "file_extension": ".py",
   "mimetype": "text/x-python",
   "name": "python",
   "nbconvert_exporter": "python",
   "pygments_lexer": "ipython3",
   "version": "3.8.8"
  }
 },
 "nbformat": 4,
 "nbformat_minor": 5
}
